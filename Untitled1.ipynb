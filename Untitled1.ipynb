{
  "nbformat": 4,
  "nbformat_minor": 0,
  "metadata": {
    "colab": {
      "name": "Untitled1.ipynb",
      "version": "0.3.2",
      "provenance": [],
      "include_colab_link": true
    },
    "kernelspec": {
      "name": "python2",
      "display_name": "Python 2"
    }
  },
  "cells": [
    {
      "cell_type": "markdown",
      "metadata": {
        "id": "view-in-github",
        "colab_type": "text"
      },
      "source": [
        "<a href=\"https://colab.research.google.com/github/Shrishti1234/Internship/blob/master/Untitled1.ipynb\" target=\"_parent\"><img src=\"https://colab.research.google.com/assets/colab-badge.svg\" alt=\"Open In Colab\"/></a>"
      ]
    },
    {
      "metadata": {
        "id": "So0POwYquoy1",
        "colab_type": "text"
      },
      "cell_type": "markdown",
      "source": [
        " ### Using moving average to measure user engagement"
      ]
    },
    {
      "metadata": {
        "id": "KM54PBITq_yb",
        "colab_type": "code",
        "outputId": "0a2e75f6-2e5a-4a5a-f691-86f8c69eca0d",
        "colab": {
          "base_uri": "https://localhost:8080/",
          "height": 72
        }
      },
      "cell_type": "code",
      "source": [
        "import numpy as np\n",
        "dataset=[149,305,339,298,284,285,65,133,316,312,293,311,248,78]\n",
        "def movingaverage(values,window):\n",
        "  weight=np.repeat(1.0,window)/window\n",
        "  average=np.convolve(values,weight,'valid')\n",
        "  return average\n",
        "a=int(raw_input(\"Enter time period value\"))\n",
        "print movingaverage(dataset,a)"
      ],
      "execution_count": 0,
      "outputs": [
        {
          "output_type": "stream",
          "text": [
            "Enter time period value7\n",
            "[246.42857143 244.14285714 245.71428571 241.85714286 241.14285714\n",
            " 245.         239.71428571 241.57142857]\n"
          ],
          "name": "stdout"
        }
      ]
    }
  ]
}